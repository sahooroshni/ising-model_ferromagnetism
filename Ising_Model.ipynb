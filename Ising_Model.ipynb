{
  "nbformat": 4,
  "nbformat_minor": 0,
  "metadata": {
    "colab": {
      "provenance": [],
      "include_colab_link": true
    },
    "kernelspec": {
      "name": "python3",
      "display_name": "Python 3"
    },
    "language_info": {
      "name": "python"
    }
  },
  "cells": [
    {
      "cell_type": "markdown",
      "metadata": {
        "id": "view-in-github",
        "colab_type": "text"
      },
      "source": [
        "<a href=\"https://colab.research.google.com/github/sahooroshni/ising-model_ferromagnetism/blob/main/Ising_Model.ipynb\" target=\"_parent\"><img src=\"https://colab.research.google.com/assets/colab-badge.svg\" alt=\"Open In Colab\"/></a>"
      ]
    },
    {
      "cell_type": "code",
      "metadata": {
        "id": "X2qnsjkF-dgb"
      },
      "source": [
        "#1-D ISING MODEL (ABSENCE OF EXTERNAL MAGNETIC FIELD)\n",
        "\n",
        "#import packages \n",
        "import numpy as np \n",
        "import random\n",
        "import matplotlib.pyplot as plt \n",
        "\n",
        "#Input for total spins in 1-D array p\n",
        "N = 1000\n",
        "\n",
        "#Array of the initial microstate of the system \n",
        "\n",
        "state0_list = []                                    #empty array for initial microstate \n",
        "tot = 0 \n",
        "while (tot < N):\n",
        "    p = random.choice([-1, 1])\n",
        "    state0_list.append(p)                           #appending state0 with random choice of -1 or 1 \n",
        "    tot += 1                                        #appending state0 N times only \n",
        "\n",
        "state0 = np.array(state0_list)                      #list to array\n",
        "\n",
        "#print('Initial state of the system is:',state0)\n",
        "\n",
        "#Initial Parameters \n",
        "J = 1\n",
        "T = 1     #Kelvin \n",
        "Beta = 1/T \n",
        "\n",
        "#Energy \n",
        "E = []                                              #list for energy \n",
        "energy = 0 \n",
        "for spin in range(len(state0) - 1):\n",
        "  energy += -J*state0[spin]*state0[spin+1]          #hamiltonian \n",
        "\n",
        "E.append(energy)                                    #appending initial energy into the energy list \n",
        "print('Initial Energy =', E)\n",
        "\n",
        "#Magnetization \n",
        "M = []\n",
        "m = np.sum(state0)                                  #initial magnetization\n",
        "M.append(m)\n",
        "print('Initial Magnetization =', M)\n",
        "\n",
        "iter = 100000                                       #time \n",
        "\n",
        "for i in range(iter):\n",
        "    n = random.randint(0, N-1)\n",
        "    state0[n] = -1*state0[n]\n",
        "    energy_new = 0 \n",
        "\n",
        "    for spin in range(len(state0) - 1):\n",
        "        energy_new += -J*state0[spin]*state0[spin+1] \n",
        "    del_energy = energy_new - E[i] \n",
        "    p = np.random.uniform()\n",
        "\n",
        "    if p <= np.exp(-Beta*del_energy):\n",
        "        m_new = np.sum(state0)\n",
        "        M.append(m_new)\n",
        "        E.append(energy_new)\n",
        "    else: \n",
        "        state0[n] = -1*state0[n]\n",
        "        E.append(E[i])       \n",
        "        M.append(M[i])\n",
        "        \n",
        "    \n",
        "E = np.array(E)\n",
        "M = np.array(M)\n",
        "    \n",
        "t = np.linspace(0, iter, iter+1)                   #timestep is 1 unit \n",
        "plt.figure(1)\n",
        "plt.title(\"Total Energy\")\n",
        "plt.xlabel(\"Time\")\n",
        "plt.ylabel(\"E\")\n",
        "plt.plot(t, E)\n",
        "\n",
        "plt.figure(2)\n",
        "plt.title(\"Magnetization\")\n",
        "plt.xlabel(\"Time\")\n",
        "plt.ylabel(\"M\")\n",
        "plt.plot(t, M)\n",
        "\n",
        "plt.show()"
      ],
      "execution_count": null,
      "outputs": []
    },
    {
      "cell_type": "markdown",
      "metadata": {
        "id": "tk5pH81EqUjj"
      },
      "source": [
        "Thermodynamic Properties"
      ]
    },
    {
      "cell_type": "code",
      "metadata": {
        "id": "XIya_YSKqZjO"
      },
      "source": [
        "Temp = np.linspace(0,5,6)        #Temperature array "
      ],
      "execution_count": null,
      "outputs": []
    },
    {
      "cell_type": "markdown",
      "metadata": {
        "id": "-LILkXdhqbDc"
      },
      "source": [
        "Average Energy"
      ]
    },
    {
      "cell_type": "code",
      "metadata": {
        "id": "zqAcV0aAqcXt"
      },
      "source": [
        "#Input for total spins in 1-D array \n",
        "N = 1000\n",
        "\n",
        "#Array of the initial microstate of the system \n",
        "\n",
        "state0_list = []                                                   #empty array for initial microstate \n",
        "tot = 0 \n",
        "while (tot < N):\n",
        "    p = random.choice([-1, 1])\n",
        "    state0_list.append(p)                                          #appending state0 with random choice of -1 or 1 \n",
        "    tot += 1                                                       #appending state0 N times only \n",
        "\n",
        "state0 = np.array(state0_list)                                     #list to array\n",
        "\n",
        "#print('Initial state of the system is:',state0)\n",
        "\n",
        "#Initial Parameters \n",
        "J = 1\n",
        "T = 1     #Kelvin \n",
        "Beta = 1/T \n",
        "\n",
        "#Energy                                                             #list for energy \n",
        "E = []\n",
        "energy = 0 \n",
        "for spin in range(len(state0) - 1):\n",
        "  energy += -J*state0[spin]*state0[spin+1]                          #hamiltonian \n",
        "\n",
        "E.append(energy)                                                    #appending initial energy into the energy list \n",
        "print('Initial Energy =', E)\n",
        "\n",
        "#Magnetization \n",
        "m = np.sum(state0)                                                  #initial magnetization\n",
        "print('Initial Magnetization =', m)\n",
        "\n",
        "E_avg =[]     #list for collecting all the average energies for different temperatures \n",
        "#function for calculating average energy \n",
        "\n",
        "def energy_avg(T): \n",
        "  E =[]\n",
        "  E.append(energy)\n",
        "  M = []\n",
        "  M.append(m)\n",
        "  iter = 100000                                                       #time \n",
        "  for i in range(iter):\n",
        "      n = random.randint(0, N-1)\n",
        "      state0[n] = -1*state0[n]\n",
        "      energy_new = 0 \n",
        "\n",
        "      for spin in range(len(state0) - 1):\n",
        "          energy_new += -J*state0[spin]*state0[spin+1]  \n",
        "      del_energy = energy_new - E[i] \n",
        "      p = np.random.uniform()\n",
        "\n",
        "      if p <= np.exp(-Beta*del_energy):\n",
        "          m_new = np.sum(state0)\n",
        "          M.append(m_new)\n",
        "          E.append(energy_new)\n",
        "      else: \n",
        "          state0[n] = -1*state0[n]\n",
        "          E.append(E[i])       \n",
        "\n",
        "  E_avg = sum(E)/len(E)\n",
        "  return E_avg \n",
        "\n",
        "#E_avg =[]     #list for collecting all the average energies for different temperatures \n",
        "\n",
        "for Temp in range(0,5,6):\n",
        "  E_avg.append(energy_avg(Temp))\n",
        "\n",
        "E_avg = np.array(E_avg, ) \n",
        "\n",
        "plt.plot(Temp,E_avg)\n",
        "plt.title('Energy vs Temperature')\n",
        "plt.xlabel('Temperature')\n",
        "plt.ylabel('Energy')\n",
        "plt.show()\n",
        "\n"
      ],
      "execution_count": null,
      "outputs": []
    }
  ]
}